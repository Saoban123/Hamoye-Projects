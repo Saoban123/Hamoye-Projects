{
  "nbformat": 4,
  "nbformat_minor": 0,
  "metadata": {
    "colab": {
      "name": "Hamoye_kaggle",
      "provenance": [],
      "collapsed_sections": [],
      "authorship_tag": "ABX9TyPyXhd82h7pG+TDI7lceXEz",
      "include_colab_link": true
    },
    "kernelspec": {
      "name": "python3",
      "display_name": "Python 3"
    },
    "language_info": {
      "name": "python"
    }
  },
  "cells": [
    {
      "cell_type": "markdown",
      "metadata": {
        "id": "view-in-github",
        "colab_type": "text"
      },
      "source": [
        "<a href=\"https://colab.research.google.com/github/Saoban123/Hamoye-Projects/blob/main/Hamoye_kaggle.ipynb\" target=\"_parent\"><img src=\"https://colab.research.google.com/assets/colab-badge.svg\" alt=\"Open In Colab\"/></a>"
      ]
    },
    {
      "cell_type": "code",
      "execution_count": 1,
      "metadata": {
        "id": "KhkfgLP8gZrB"
      },
      "outputs": [],
      "source": [
        "import pandas as pd\n",
        "import matplotlib.image as mpimg\n",
        "import matplotlib.pyplot as plt\n",
        "from sklearn.preprocessing import LabelEncoder\n",
        "import gc\n"
      ]
    },
    {
      "cell_type": "code",
      "source": [
        "train_df = pd.read_csv('/content/train_classes.csv')\n",
        "train_df"
      ],
      "metadata": {
        "colab": {
          "base_uri": "https://localhost:8080/",
          "height": 423
        },
        "id": "me8mJR4xh9Q5",
        "outputId": "c9c523c7-dc92-410a-d0fc-3d77ed77b412"
      },
      "execution_count": 2,
      "outputs": [
        {
          "output_type": "execute_result",
          "data": {
            "text/plain": [
              "        image_name                                           tags\n",
              "0          train_0                                   haze primary\n",
              "1          train_1                agriculture clear primary water\n",
              "2          train_2                                  clear primary\n",
              "3          train_3                                  clear primary\n",
              "4          train_4      agriculture clear habitation primary road\n",
              "...            ...                                            ...\n",
              "40474  train_40474                                  clear primary\n",
              "40475  train_40475                                         cloudy\n",
              "40476  train_40476                      agriculture clear primary\n",
              "40477  train_40477                 agriculture clear primary road\n",
              "40478  train_40478  agriculture cultivation partly_cloudy primary\n",
              "\n",
              "[40479 rows x 2 columns]"
            ],
            "text/html": [
              "\n",
              "  <div id=\"df-daf38e38-ccd4-4548-82f0-e430d4e07b6d\">\n",
              "    <div class=\"colab-df-container\">\n",
              "      <div>\n",
              "<style scoped>\n",
              "    .dataframe tbody tr th:only-of-type {\n",
              "        vertical-align: middle;\n",
              "    }\n",
              "\n",
              "    .dataframe tbody tr th {\n",
              "        vertical-align: top;\n",
              "    }\n",
              "\n",
              "    .dataframe thead th {\n",
              "        text-align: right;\n",
              "    }\n",
              "</style>\n",
              "<table border=\"1\" class=\"dataframe\">\n",
              "  <thead>\n",
              "    <tr style=\"text-align: right;\">\n",
              "      <th></th>\n",
              "      <th>image_name</th>\n",
              "      <th>tags</th>\n",
              "    </tr>\n",
              "  </thead>\n",
              "  <tbody>\n",
              "    <tr>\n",
              "      <th>0</th>\n",
              "      <td>train_0</td>\n",
              "      <td>haze primary</td>\n",
              "    </tr>\n",
              "    <tr>\n",
              "      <th>1</th>\n",
              "      <td>train_1</td>\n",
              "      <td>agriculture clear primary water</td>\n",
              "    </tr>\n",
              "    <tr>\n",
              "      <th>2</th>\n",
              "      <td>train_2</td>\n",
              "      <td>clear primary</td>\n",
              "    </tr>\n",
              "    <tr>\n",
              "      <th>3</th>\n",
              "      <td>train_3</td>\n",
              "      <td>clear primary</td>\n",
              "    </tr>\n",
              "    <tr>\n",
              "      <th>4</th>\n",
              "      <td>train_4</td>\n",
              "      <td>agriculture clear habitation primary road</td>\n",
              "    </tr>\n",
              "    <tr>\n",
              "      <th>...</th>\n",
              "      <td>...</td>\n",
              "      <td>...</td>\n",
              "    </tr>\n",
              "    <tr>\n",
              "      <th>40474</th>\n",
              "      <td>train_40474</td>\n",
              "      <td>clear primary</td>\n",
              "    </tr>\n",
              "    <tr>\n",
              "      <th>40475</th>\n",
              "      <td>train_40475</td>\n",
              "      <td>cloudy</td>\n",
              "    </tr>\n",
              "    <tr>\n",
              "      <th>40476</th>\n",
              "      <td>train_40476</td>\n",
              "      <td>agriculture clear primary</td>\n",
              "    </tr>\n",
              "    <tr>\n",
              "      <th>40477</th>\n",
              "      <td>train_40477</td>\n",
              "      <td>agriculture clear primary road</td>\n",
              "    </tr>\n",
              "    <tr>\n",
              "      <th>40478</th>\n",
              "      <td>train_40478</td>\n",
              "      <td>agriculture cultivation partly_cloudy primary</td>\n",
              "    </tr>\n",
              "  </tbody>\n",
              "</table>\n",
              "<p>40479 rows × 2 columns</p>\n",
              "</div>\n",
              "      <button class=\"colab-df-convert\" onclick=\"convertToInteractive('df-daf38e38-ccd4-4548-82f0-e430d4e07b6d')\"\n",
              "              title=\"Convert this dataframe to an interactive table.\"\n",
              "              style=\"display:none;\">\n",
              "        \n",
              "  <svg xmlns=\"http://www.w3.org/2000/svg\" height=\"24px\"viewBox=\"0 0 24 24\"\n",
              "       width=\"24px\">\n",
              "    <path d=\"M0 0h24v24H0V0z\" fill=\"none\"/>\n",
              "    <path d=\"M18.56 5.44l.94 2.06.94-2.06 2.06-.94-2.06-.94-.94-2.06-.94 2.06-2.06.94zm-11 1L8.5 8.5l.94-2.06 2.06-.94-2.06-.94L8.5 2.5l-.94 2.06-2.06.94zm10 10l.94 2.06.94-2.06 2.06-.94-2.06-.94-.94-2.06-.94 2.06-2.06.94z\"/><path d=\"M17.41 7.96l-1.37-1.37c-.4-.4-.92-.59-1.43-.59-.52 0-1.04.2-1.43.59L10.3 9.45l-7.72 7.72c-.78.78-.78 2.05 0 2.83L4 21.41c.39.39.9.59 1.41.59.51 0 1.02-.2 1.41-.59l7.78-7.78 2.81-2.81c.8-.78.8-2.07 0-2.86zM5.41 20L4 18.59l7.72-7.72 1.47 1.35L5.41 20z\"/>\n",
              "  </svg>\n",
              "      </button>\n",
              "      \n",
              "  <style>\n",
              "    .colab-df-container {\n",
              "      display:flex;\n",
              "      flex-wrap:wrap;\n",
              "      gap: 12px;\n",
              "    }\n",
              "\n",
              "    .colab-df-convert {\n",
              "      background-color: #E8F0FE;\n",
              "      border: none;\n",
              "      border-radius: 50%;\n",
              "      cursor: pointer;\n",
              "      display: none;\n",
              "      fill: #1967D2;\n",
              "      height: 32px;\n",
              "      padding: 0 0 0 0;\n",
              "      width: 32px;\n",
              "    }\n",
              "\n",
              "    .colab-df-convert:hover {\n",
              "      background-color: #E2EBFA;\n",
              "      box-shadow: 0px 1px 2px rgba(60, 64, 67, 0.3), 0px 1px 3px 1px rgba(60, 64, 67, 0.15);\n",
              "      fill: #174EA6;\n",
              "    }\n",
              "\n",
              "    [theme=dark] .colab-df-convert {\n",
              "      background-color: #3B4455;\n",
              "      fill: #D2E3FC;\n",
              "    }\n",
              "\n",
              "    [theme=dark] .colab-df-convert:hover {\n",
              "      background-color: #434B5C;\n",
              "      box-shadow: 0px 1px 3px 1px rgba(0, 0, 0, 0.15);\n",
              "      filter: drop-shadow(0px 1px 2px rgba(0, 0, 0, 0.3));\n",
              "      fill: #FFFFFF;\n",
              "    }\n",
              "  </style>\n",
              "\n",
              "      <script>\n",
              "        const buttonEl =\n",
              "          document.querySelector('#df-daf38e38-ccd4-4548-82f0-e430d4e07b6d button.colab-df-convert');\n",
              "        buttonEl.style.display =\n",
              "          google.colab.kernel.accessAllowed ? 'block' : 'none';\n",
              "\n",
              "        async function convertToInteractive(key) {\n",
              "          const element = document.querySelector('#df-daf38e38-ccd4-4548-82f0-e430d4e07b6d');\n",
              "          const dataTable =\n",
              "            await google.colab.kernel.invokeFunction('convertToInteractive',\n",
              "                                                     [key], {});\n",
              "          if (!dataTable) return;\n",
              "\n",
              "          const docLinkHtml = 'Like what you see? Visit the ' +\n",
              "            '<a target=\"_blank\" href=https://colab.research.google.com/notebooks/data_table.ipynb>data table notebook</a>'\n",
              "            + ' to learn more about interactive tables.';\n",
              "          element.innerHTML = '';\n",
              "          dataTable['output_type'] = 'display_data';\n",
              "          await google.colab.output.renderOutput(dataTable, element);\n",
              "          const docLink = document.createElement('div');\n",
              "          docLink.innerHTML = docLinkHtml;\n",
              "          element.appendChild(docLink);\n",
              "        }\n",
              "      </script>\n",
              "    </div>\n",
              "  </div>\n",
              "  "
            ]
          },
          "metadata": {},
          "execution_count": 2
        }
      ]
    },
    {
      "cell_type": "code",
      "source": [
        "train_df['tags'].value_counts()"
      ],
      "metadata": {
        "colab": {
          "base_uri": "https://localhost:8080/"
        },
        "id": "rkQsxWFOiMzq",
        "outputId": "3d4ffd53-83e6-4653-fbcd-ad91547c64c3"
      },
      "execution_count": 3,
      "outputs": [
        {
          "output_type": "execute_result",
          "data": {
            "text/plain": [
              "clear primary                                               13636\n",
              "partly_cloudy primary                                        3630\n",
              "cloudy                                                       2089\n",
              "clear primary water                                          1850\n",
              "agriculture clear primary road                               1680\n",
              "                                                            ...  \n",
              "agriculture clear cultivation cultivation road                  1\n",
              "artisinal_mine bare_ground partly_cloudy primary road           1\n",
              "agriculture clear conventional_mine primary road                1\n",
              "clear conventional_mine habitation road                         1\n",
              "agriculture partly_cloudy primary road conventional_mine        1\n",
              "Name: tags, Length: 449, dtype: int64"
            ]
          },
          "metadata": {},
          "execution_count": 3
        }
      ]
    },
    {
      "cell_type": "code",
      "source": [
        "train_img = mpimg.imread('/content/train_1.jpg')\n",
        "plt.imshow(train_img)"
      ],
      "metadata": {
        "colab": {
          "base_uri": "https://localhost:8080/",
          "height": 286
        },
        "id": "txqHK3g0ilA2",
        "outputId": "bea9424e-5907-435c-adf4-4a316c4f8cf8"
      },
      "execution_count": 4,
      "outputs": [
        {
          "output_type": "execute_result",
          "data": {
            "text/plain": [
              "<matplotlib.image.AxesImage at 0x7f6861988c10>"
            ]
          },
          "metadata": {},
          "execution_count": 4
        },
        {
          "output_type": "display_data",
          "data": {
            "text/plain": [
              "<Figure size 432x288 with 1 Axes>"
            ],
            "image/png": "[encoded data removed]"
          },
          "metadata": {
            "needs_background": "light"
          }
        }
      ]
    },
    {
      "cell_type": "code",
      "source": [
        "train_img.shape"
      ],
      "metadata": {
        "colab": {
          "base_uri": "https://localhost:8080/"
        },
        "id": "bFpY153mi2hz",
        "outputId": "39cec686-6f7d-4849-d5d9-9188487bc3c9"
      },
      "execution_count": 5,
      "outputs": [
        {
          "output_type": "execute_result",
          "data": {
            "text/plain": [
              "(256, 256, 4)"
            ]
          },
          "metadata": {},
          "execution_count": 5
        }
      ]
    },
    {
      "cell_type": "code",
      "source": [
        "en = LabelEncoder()\n",
        "label_maps = pd.DataFrame(['agriculture', 'artisinal_mine', 'bare_ground',\\\n",
        "                      'blooming','blow_down','clear','cloudy',\\\n",
        "                      'conventional_mine','cultivation','habitation','haze', \\\n",
        "                      'partly_cloudy','primary','road','selective_logging',\\\n",
        "                      'slash_burn','water'], columns = ['tags'])\n",
        "label_maps['map'] = en.fit_transform(label_maps)\n",
        "label_maps.set_index('tags',inplace = True)\n",
        "label_maps = label_maps.to_dict()\n",
        "label_maps"
      ],
      "metadata": {
        "colab": {
          "base_uri": "https://localhost:8080/"
        },
        "id": "lRlXd0Lhi_HU",
        "outputId": "0ee50455-8b25-48ad-a0c6-314f5a0ba86b"
      },
      "execution_count": 6,
      "outputs": [
        {
          "output_type": "stream",
          "name": "stderr",
          "text": [
            "/usr/local/lib/python3.7/dist-packages/sklearn/preprocessing/_label.py:115: DataConversionWarning: A column-vector y was passed when a 1d array was expected. Please change the shape of y to (n_samples, ), for example using ravel().\n",
            "  y = column_or_1d(y, warn=True)\n"
          ]
        },
        {
          "output_type": "execute_result",
          "data": {
            "text/plain": [
              "{'map': {'agriculture': 0,\n",
              "  'artisinal_mine': 1,\n",
              "  'bare_ground': 2,\n",
              "  'blooming': 3,\n",
              "  'blow_down': 4,\n",
              "  'clear': 5,\n",
              "  'cloudy': 6,\n",
              "  'conventional_mine': 7,\n",
              "  'cultivation': 8,\n",
              "  'habitation': 9,\n",
              "  'haze': 10,\n",
              "  'partly_cloudy': 11,\n",
              "  'primary': 12,\n",
              "  'road': 13,\n",
              "  'selective_logging': 14,\n",
              "  'slash_burn': 15,\n",
              "  'water': 16}}"
            ]
          },
          "metadata": {},
          "execution_count": 6
        }
      ]
    },
    {
      "cell_type": "code",
      "source": [
        "#defining a dict of encoded labels\n",
        "label_map = {'agriculture': 0,\n",
        " 'artisinal_mine': 1,\n",
        " 'bare_ground': 2,\n",
        " 'blooming': 3,\n",
        " 'blow_down': 4,\n",
        " 'clear': 5,\n",
        " 'cloudy': 6,\n",
        " 'conventional_mine': 7,\n",
        " 'cultivation': 8,\n",
        " 'habitation': 9,\n",
        " 'haze': 10,\n",
        " 'partly_cloudy': 11,\n",
        " 'primary': 12,\n",
        " 'road': 13,\n",
        " 'selective_logging': 14,\n",
        " 'slash_burn': 15,\n",
        " 'water': 16}"
      ],
      "metadata": {
        "id": "4rpCSSJRnBXK"
      },
      "execution_count": 7,
      "outputs": []
    },
    {
      "cell_type": "code",
      "source": [
        "#loading training images\n",
        "from tqdm import tqdm \n",
        "import cv2\n",
        "import numpy as np\n",
        "from sklearn.utils import shuffle\n",
        "\n",
        "X = []\n",
        "Y = []\n",
        "train_df = shuffle(train_df,random_state=0)\n",
        "for image_name, tags in tqdm(train_df.values, miniters=400):\n",
        "    arr = cv2.imread('/content/{}.jpg'.\\\n",
        "                     format(image_name), cv2.IMREAD_UNCHANGED)\n",
        "    targets = np.zeros(17)\n",
        "    for t in tags.split(' '):\n",
        "      try:\n",
        "        targets[label_map[t]] = 1\n",
        "        arr = cv2.resize(arr, (64, 64))\n",
        "        X.append(arr)\n",
        "        Y.append(targets)   \n",
        "      except:\n",
        "        break\n",
        "X = np.array(X, np.float16)/255.0"
      ],
      "metadata": {
        "colab": {
          "base_uri": "https://localhost:8080/"
        },
        "id": "pGnHQLhmjQSE",
        "outputId": "16e11e53-c1b6-4c0a-88d6-faf6c7f8b7db"
      },
      "execution_count": 8,
      "outputs": [
        {
          "output_type": "stream",
          "name": "stderr",
          "text": [
            "100%|██████████| 40479/40479 [00:04<00:00, 8639.39it/s]\n"
          ]
        }
      ]
    },
    {
      "cell_type": "code",
      "source": [
        "#splitting into training and validation sets\n",
        "\n",
        "from sklearn.model_selection import train_test_split\n",
        "import numpy as np\n",
        "\n",
        "X = np.array(X)\n",
        "Y = np.array(Y)\n",
        "x_train, x_val, y_train, y_val = train_test_split(X, Y, test_size = 0.2, shuffle = True, random_state = 1)\n",
        "\n",
        "print(x_train.shape, y_train.shape, x_val.shape, y_val.shape)"
      ],
      "metadata": {
        "id": "45qYd1lrkPPw",
        "colab": {
          "base_uri": "https://localhost:8080/"
        },
        "outputId": "c8d9e8f6-c750-404f-b1a1-f3373a6133b1"
      },
      "execution_count": 9,
      "outputs": [
        {
          "output_type": "stream",
          "name": "stdout",
          "text": [
            "(4, 64, 64, 3) (4, 17) (2, 64, 64, 3) (2, 17)\n"
          ]
        }
      ]
    },
    {
      "cell_type": "code",
      "source": [
        "gc.collect()"
      ],
      "metadata": {
        "colab": {
          "base_uri": "https://localhost:8080/"
        },
        "id": "YcAn6LX_awpl",
        "outputId": "fe7fdef9-8405-4a01-ce23-e24e529abfaa"
      },
      "execution_count": 10,
      "outputs": [
        {
          "output_type": "execute_result",
          "data": {
            "text/plain": [
              "87"
            ]
          },
          "metadata": {},
          "execution_count": 10
        }
      ]
    },
    {
      "cell_type": "code",
      "source": [
        "import numpy as np\n",
        "from keras import backend as K\n",
        "from sklearn.metrics import fbeta_score\n",
        "\n",
        "def fbeta(y_true, y_pred, threshold_shift=0):\n",
        "    beta = 2\n",
        "\n",
        "    # just in case of hipster activation at the final layer\n",
        "    y_pred = K.clip(y_pred, 0, 1)\n",
        "\n",
        "    # shifting the prediction threshold from .5 if needed\n",
        "    y_pred_bin = K.round(y_pred + threshold_shift)\n",
        "\n",
        "    tp = K.sum(K.round(y_true * y_pred_bin)) + K.epsilon()\n",
        "    fp = K.sum(K.round(K.clip(y_pred_bin - y_true, 0, 1)))\n",
        "    fn = K.sum(K.round(K.clip(y_true - y_pred, 0, 1)))\n",
        "    \n",
        "    precision = tp / (tp + fp)\n",
        "    recall = tp / (tp + fn)\n",
        "\n",
        "    beta_squared = beta ** 2\n",
        "    return (beta_squared + 1) * (precision * recall) / (beta_squared * precision + recall + K.epsilon())"
      ],
      "metadata": {
        "id": "ZeFs4Bv7a-Zr"
      },
      "execution_count": 11,
      "outputs": []
    },
    {
      "cell_type": "code",
      "source": [
        "from keras.layers import Conv2D, Dense, LSTM, Flatten, MaxPooling2D, BatchNormalization, Dropout\n",
        "from tensorflow.keras.optimizers import Adam, RMSprop, SGD\n",
        "from tensorflow import keras\n",
        "\n",
        "#with tpu_strategy.scope():\n",
        "model = keras.Sequential()\n",
        "model.add(Conv2D(64, 5, 2, activation = \"relu\", input_shape = (64, 64, 3)))\n",
        "model.add(MaxPooling2D())\n",
        "model.add(Conv2D(128, 5, 2, activation = \"relu\"))\n",
        "model.add(MaxPooling2D())\n",
        "model.add(Flatten())\n",
        "model.add(Dense(512, activation = \"relu\"))\n",
        "model.add(Dense(17, activation = \"sigmoid\"))\n",
        "model.compile(loss = \"binary_crossentropy\", optimizer = Adam(), metrics = [fbeta])\n",
        "model.fit(x_train, y_train, validation_data = (x_val, y_val), epochs = 45, batch_size = 64)"
      ],
      "metadata": {
        "colab": {
          "base_uri": "https://localhost:8080/"
        },
        "id": "GMQWdF6wbGNb",
        "outputId": "2a38c315-64e1-47c7-e48e-825207441b93"
      },
      "execution_count": 12,
      "outputs": [
        {
          "output_type": "stream",
          "name": "stdout",
          "text": [
            "Epoch 1/45\n",
            "1/1 [==============================] - 1s 1s/step - loss: 0.6862 - fbeta: 0.4545 - val_loss: 0.6118 - val_fbeta: 0.6667\n",
            "Epoch 2/45\n",
            "1/1 [==============================] - 0s 52ms/step - loss: 0.6104 - fbeta: 0.7353 - val_loss: 0.4914 - val_fbeta: 0.7812\n",
            "Epoch 3/45\n",
            "1/1 [==============================] - 0s 49ms/step - loss: 0.4837 - fbeta: 0.9028 - val_loss: 0.3533 - val_fbeta: 0.7812\n",
            "Epoch 4/45\n",
            "1/1 [==============================] - 0s 49ms/step - loss: 0.3240 - fbeta: 0.9028 - val_loss: 0.2855 - val_fbeta: 0.7812\n",
            "Epoch 5/45\n",
            "1/1 [==============================] - 0s 53ms/step - loss: 0.2064 - fbeta: 0.9028 - val_loss: 0.3063 - val_fbeta: 0.7812\n",
            "Epoch 6/45\n",
            "1/1 [==============================] - 0s 51ms/step - loss: 0.1773 - fbeta: 0.9028 - val_loss: 0.2979 - val_fbeta: 0.7812\n",
            "Epoch 7/45\n",
            "1/1 [==============================] - 0s 53ms/step - loss: 0.1677 - fbeta: 0.9028 - val_loss: 0.2194 - val_fbeta: 0.7812\n",
            "Epoch 8/45\n",
            "1/1 [==============================] - 0s 47ms/step - loss: 0.1430 - fbeta: 0.9028 - val_loss: 0.1558 - val_fbeta: 0.6897\n",
            "Epoch 9/45\n",
            "1/1 [==============================] - 0s 51ms/step - loss: 0.1597 - fbeta: 0.6154 - val_loss: 0.1504 - val_fbeta: 0.5556\n",
            "Epoch 10/45\n",
            "1/1 [==============================] - 0s 46ms/step - loss: 0.1589 - fbeta: 0.4098 - val_loss: 0.1786 - val_fbeta: 0.7812\n",
            "Epoch 11/45\n",
            "1/1 [==============================] - 0s 50ms/step - loss: 0.1329 - fbeta: 0.9028 - val_loss: 0.2589 - val_fbeta: 0.7812\n",
            "Epoch 12/45\n",
            "1/1 [==============================] - 0s 49ms/step - loss: 0.1483 - fbeta: 0.9028 - val_loss: 0.2598 - val_fbeta: 0.7812\n",
            "Epoch 13/45\n",
            "1/1 [==============================] - 0s 48ms/step - loss: 0.1474 - fbeta: 0.9028 - val_loss: 0.1808 - val_fbeta: 0.7812\n",
            "Epoch 14/45\n",
            "1/1 [==============================] - 0s 48ms/step - loss: 0.1232 - fbeta: 0.9028 - val_loss: 0.1309 - val_fbeta: 0.8621\n",
            "Epoch 15/45\n",
            "1/1 [==============================] - 0s 46ms/step - loss: 0.1344 - fbeta: 0.8209 - val_loss: 0.1263 - val_fbeta: 1.0000\n",
            "Epoch 16/45\n",
            "1/1 [==============================] - 0s 49ms/step - loss: 0.1263 - fbeta: 1.0000 - val_loss: 0.1585 - val_fbeta: 0.7812\n",
            "Epoch 17/45\n",
            "1/1 [==============================] - 0s 50ms/step - loss: 0.1100 - fbeta: 0.9028 - val_loss: 0.2068 - val_fbeta: 0.7812\n",
            "Epoch 18/45\n",
            "1/1 [==============================] - 0s 50ms/step - loss: 0.1202 - fbeta: 0.9028 - val_loss: 0.1772 - val_fbeta: 0.7812\n",
            "Epoch 19/45\n",
            "1/1 [==============================] - 0s 48ms/step - loss: 0.1081 - fbeta: 0.9028 - val_loss: 0.1145 - val_fbeta: 0.9375\n",
            "Epoch 20/45\n",
            "1/1 [==============================] - 0s 57ms/step - loss: 0.0958 - fbeta: 0.9722 - val_loss: 0.0979 - val_fbeta: 1.0000\n",
            "Epoch 21/45\n",
            "1/1 [==============================] - 0s 51ms/step - loss: 0.1041 - fbeta: 1.0000 - val_loss: 0.1014 - val_fbeta: 1.0000\n",
            "Epoch 22/45\n",
            "1/1 [==============================] - 0s 47ms/step - loss: 0.0850 - fbeta: 1.0000 - val_loss: 0.1400 - val_fbeta: 0.7812\n",
            "Epoch 23/45\n",
            "1/1 [==============================] - 0s 55ms/step - loss: 0.0860 - fbeta: 0.9028 - val_loss: 0.1338 - val_fbeta: 0.7812\n",
            "Epoch 24/45\n",
            "1/1 [==============================] - 0s 48ms/step - loss: 0.0812 - fbeta: 0.9028 - val_loss: 0.0825 - val_fbeta: 1.0000\n",
            "Epoch 25/45\n",
            "1/1 [==============================] - 0s 51ms/step - loss: 0.0669 - fbeta: 1.0000 - val_loss: 0.0663 - val_fbeta: 1.0000\n",
            "Epoch 26/45\n",
            "1/1 [==============================] - 0s 50ms/step - loss: 0.0712 - fbeta: 1.0000 - val_loss: 0.0663 - val_fbeta: 1.0000\n",
            "Epoch 27/45\n",
            "1/1 [==============================] - 0s 47ms/step - loss: 0.0555 - fbeta: 1.0000 - val_loss: 0.0911 - val_fbeta: 0.9375\n",
            "Epoch 28/45\n",
            "1/1 [==============================] - 0s 51ms/step - loss: 0.0557 - fbeta: 0.9722 - val_loss: 0.0733 - val_fbeta: 1.0000\n",
            "Epoch 29/45\n",
            "1/1 [==============================] - 0s 49ms/step - loss: 0.0469 - fbeta: 1.0000 - val_loss: 0.0418 - val_fbeta: 1.0000\n",
            "Epoch 30/45\n",
            "1/1 [==============================] - 0s 48ms/step - loss: 0.0394 - fbeta: 1.0000 - val_loss: 0.0351 - val_fbeta: 1.0000\n",
            "Epoch 31/45\n",
            "1/1 [==============================] - 0s 47ms/step - loss: 0.0372 - fbeta: 1.0000 - val_loss: 0.0365 - val_fbeta: 1.0000\n",
            "Epoch 32/45\n",
            "1/1 [==============================] - 0s 73ms/step - loss: 0.0275 - fbeta: 1.0000 - val_loss: 0.0473 - val_fbeta: 1.0000\n",
            "Epoch 33/45\n",
            "1/1 [==============================] - 0s 53ms/step - loss: 0.0283 - fbeta: 1.0000 - val_loss: 0.0282 - val_fbeta: 1.0000\n",
            "Epoch 34/45\n",
            "1/1 [==============================] - 0s 53ms/step - loss: 0.0202 - fbeta: 1.0000 - val_loss: 0.0164 - val_fbeta: 1.0000\n",
            "Epoch 35/45\n",
            "1/1 [==============================] - 0s 52ms/step - loss: 0.0172 - fbeta: 1.0000 - val_loss: 0.0137 - val_fbeta: 1.0000\n",
            "Epoch 36/45\n",
            "1/1 [==============================] - 0s 50ms/step - loss: 0.0148 - fbeta: 1.0000 - val_loss: 0.0124 - val_fbeta: 1.0000\n",
            "Epoch 37/45\n",
            "1/1 [==============================] - 0s 49ms/step - loss: 0.0099 - fbeta: 1.0000 - val_loss: 0.0150 - val_fbeta: 1.0000\n",
            "Epoch 38/45\n",
            "1/1 [==============================] - 0s 60ms/step - loss: 0.0092 - fbeta: 1.0000 - val_loss: 0.0129 - val_fbeta: 1.0000\n",
            "Epoch 39/45\n",
            "1/1 [==============================] - 0s 49ms/step - loss: 0.0078 - fbeta: 1.0000 - val_loss: 0.0059 - val_fbeta: 1.0000\n",
            "Epoch 40/45\n",
            "1/1 [==============================] - 0s 54ms/step - loss: 0.0047 - fbeta: 1.0000 - val_loss: 0.0040 - val_fbeta: 1.0000\n",
            "Epoch 41/45\n",
            "1/1 [==============================] - 0s 46ms/step - loss: 0.0044 - fbeta: 1.0000 - val_loss: 0.0035 - val_fbeta: 1.0000\n",
            "Epoch 42/45\n",
            "1/1 [==============================] - 0s 47ms/step - loss: 0.0041 - fbeta: 1.0000 - val_loss: 0.0025 - val_fbeta: 1.0000\n",
            "Epoch 43/45\n",
            "1/1 [==============================] - 0s 47ms/step - loss: 0.0027 - fbeta: 1.0000 - val_loss: 0.0022 - val_fbeta: 1.0000\n",
            "Epoch 44/45\n",
            "1/1 [==============================] - 0s 54ms/step - loss: 0.0019 - fbeta: 1.0000 - val_loss: 0.0024 - val_fbeta: 1.0000\n",
            "Epoch 45/45\n",
            "1/1 [==============================] - 0s 53ms/step - loss: 0.0016 - fbeta: 1.0000 - val_loss: 0.0026 - val_fbeta: 1.0000\n"
          ]
        },
        {
          "output_type": "execute_result",
          "data": {
            "text/plain": [
              "<keras.callbacks.History at 0x7f67e6fcd590>"
            ]
          },
          "metadata": {},
          "execution_count": 12
        }
      ]
    },
    {
      "cell_type": "code",
      "source": [
        " y_train_pred = np.round(model.predict(x_train))\n",
        " y_val_pred = np.round(model.predict(x_val))"
      ],
      "metadata": {
        "id": "ZoXVJAfMd9nG"
      },
      "execution_count": 13,
      "outputs": []
    },
    {
      "cell_type": "code",
      "source": [
        "model.evaluate(x_val, y_val)\n",
        "\n",
        "print(\"train fscore: \", fbeta_score(y_train, y_train_pred,beta = 2.0, average = 'weighted'))\n",
        "print(\"val fscore: \", fbeta_score(y_val, y_val_pred, beta = 2.0, average = 'weighted'))\n",
        "\n"
      ],
      "metadata": {
        "colab": {
          "base_uri": "https://localhost:8080/"
        },
        "id": "BfPwq5ZibNyr",
        "outputId": "bb59a261-2970-4655-c5e8-e64f860df11b"
      },
      "execution_count": 14,
      "outputs": [
        {
          "output_type": "stream",
          "name": "stdout",
          "text": [
            "1/1 [==============================] - 0s 21ms/step - loss: 0.0026 - fbeta: 1.0000\n",
            "train fscore:  1.0\n",
            "val fscore:  1.0\n"
          ]
        },
        {
          "output_type": "stream",
          "name": "stderr",
          "text": [
            "/usr/local/lib/python3.7/dist-packages/sklearn/metrics/_classification.py:1580: UndefinedMetricWarning: F-score is ill-defined and being set to 0.0 in labels with no true nor predicted samples. Use `zero_division` parameter to control this behavior.\n",
            "  _warn_prf(average, \"true nor predicted\", \"F-score is\", len(true_sum))\n",
            "/usr/local/lib/python3.7/dist-packages/sklearn/metrics/_classification.py:1580: UndefinedMetricWarning: F-score is ill-defined and being set to 0.0 in labels with no true nor predicted samples. Use `zero_division` parameter to control this behavior.\n",
            "  _warn_prf(average, \"true nor predicted\", \"F-score is\", len(true_sum))\n"
          ]
        }
      ]
    },
    {
      "cell_type": "code",
      "source": [
        "submission_csv = pd.read_csv('/content/sample_submission.csv')\n",
        "submission_csv"
      ],
      "metadata": {
        "colab": {
          "base_uri": "https://localhost:8080/",
          "height": 423
        },
        "id": "hznzduc7hgd8",
        "outputId": "3af498d9-5367-413b-98e4-493913619e94"
      },
      "execution_count": 15,
      "outputs": [
        {
          "output_type": "execute_result",
          "data": {
            "text/plain": [
              "      image_name                                  tags\n",
              "0         test_0  primary clear agriculture road water\n",
              "1         test_1  primary clear agriculture road water\n",
              "2         test_2  primary clear agriculture road water\n",
              "3         test_3  primary clear agriculture road water\n",
              "4         test_4  primary clear agriculture road water\n",
              "...          ...                                   ...\n",
              "61186  file_9995  primary clear agriculture road water\n",
              "61187  file_9996  primary clear agriculture road water\n",
              "61188  file_9997  primary clear agriculture road water\n",
              "61189  file_9998  primary clear agriculture road water\n",
              "61190  file_9999  primary clear agriculture road water\n",
              "\n",
              "[61191 rows x 2 columns]"
            ],
            "text/html": [
              "\n",
              "  <div id=\"df-606857c0-a056-42a6-a41e-1f31808c76bf\">\n",
              "    <div class=\"colab-df-container\">\n",
              "      <div>\n",
              "<style scoped>\n",
              "    .dataframe tbody tr th:only-of-type {\n",
              "        vertical-align: middle;\n",
              "    }\n",
              "\n",
              "    .dataframe tbody tr th {\n",
              "        vertical-align: top;\n",
              "    }\n",
              "\n",
              "    .dataframe thead th {\n",
              "        text-align: right;\n",
              "    }\n",
              "</style>\n",
              "<table border=\"1\" class=\"dataframe\">\n",
              "  <thead>\n",
              "    <tr style=\"text-align: right;\">\n",
              "      <th></th>\n",
              "      <th>image_name</th>\n",
              "      <th>tags</th>\n",
              "    </tr>\n",
              "  </thead>\n",
              "  <tbody>\n",
              "    <tr>\n",
              "      <th>0</th>\n",
              "      <td>test_0</td>\n",
              "      <td>primary clear agriculture road water</td>\n",
              "    </tr>\n",
              "    <tr>\n",
              "      <th>1</th>\n",
              "      <td>test_1</td>\n",
              "      <td>primary clear agriculture road water</td>\n",
              "    </tr>\n",
              "    <tr>\n",
              "      <th>2</th>\n",
              "      <td>test_2</td>\n",
              "      <td>primary clear agriculture road water</td>\n",
              "    </tr>\n",
              "    <tr>\n",
              "      <th>3</th>\n",
              "      <td>test_3</td>\n",
              "      <td>primary clear agriculture road water</td>\n",
              "    </tr>\n",
              "    <tr>\n",
              "      <th>4</th>\n",
              "      <td>test_4</td>\n",
              "      <td>primary clear agriculture road water</td>\n",
              "    </tr>\n",
              "    <tr>\n",
              "      <th>...</th>\n",
              "      <td>...</td>\n",
              "      <td>...</td>\n",
              "    </tr>\n",
              "    <tr>\n",
              "      <th>61186</th>\n",
              "      <td>file_9995</td>\n",
              "      <td>primary clear agriculture road water</td>\n",
              "    </tr>\n",
              "    <tr>\n",
              "      <th>61187</th>\n",
              "      <td>file_9996</td>\n",
              "      <td>primary clear agriculture road water</td>\n",
              "    </tr>\n",
              "    <tr>\n",
              "      <th>61188</th>\n",
              "      <td>file_9997</td>\n",
              "      <td>primary clear agriculture road water</td>\n",
              "    </tr>\n",
              "    <tr>\n",
              "      <th>61189</th>\n",
              "      <td>file_9998</td>\n",
              "      <td>primary clear agriculture road water</td>\n",
              "    </tr>\n",
              "    <tr>\n",
              "      <th>61190</th>\n",
              "      <td>file_9999</td>\n",
              "      <td>primary clear agriculture road water</td>\n",
              "    </tr>\n",
              "  </tbody>\n",
              "</table>\n",
              "<p>61191 rows × 2 columns</p>\n",
              "</div>\n",
              "      <button class=\"colab-df-convert\" onclick=\"convertToInteractive('df-606857c0-a056-42a6-a41e-1f31808c76bf')\"\n",
              "              title=\"Convert this dataframe to an interactive table.\"\n",
              "              style=\"display:none;\">\n",
              "        \n",
              "  <svg xmlns=\"http://www.w3.org/2000/svg\" height=\"24px\"viewBox=\"0 0 24 24\"\n",
              "       width=\"24px\">\n",
              "    <path d=\"M0 0h24v24H0V0z\" fill=\"none\"/>\n",
              "    <path d=\"M18.56 5.44l.94 2.06.94-2.06 2.06-.94-2.06-.94-.94-2.06-.94 2.06-2.06.94zm-11 1L8.5 8.5l.94-2.06 2.06-.94-2.06-.94L8.5 2.5l-.94 2.06-2.06.94zm10 10l.94 2.06.94-2.06 2.06-.94-2.06-.94-.94-2.06-.94 2.06-2.06.94z\"/><path d=\"M17.41 7.96l-1.37-1.37c-.4-.4-.92-.59-1.43-.59-.52 0-1.04.2-1.43.59L10.3 9.45l-7.72 7.72c-.78.78-.78 2.05 0 2.83L4 21.41c.39.39.9.59 1.41.59.51 0 1.02-.2 1.41-.59l7.78-7.78 2.81-2.81c.8-.78.8-2.07 0-2.86zM5.41 20L4 18.59l7.72-7.72 1.47 1.35L5.41 20z\"/>\n",
              "  </svg>\n",
              "      </button>\n",
              "      \n",
              "  <style>\n",
              "    .colab-df-container {\n",
              "      display:flex;\n",
              "      flex-wrap:wrap;\n",
              "      gap: 12px;\n",
              "    }\n",
              "\n",
              "    .colab-df-convert {\n",
              "      background-color: #E8F0FE;\n",
              "      border: none;\n",
              "      border-radius: 50%;\n",
              "      cursor: pointer;\n",
              "      display: none;\n",
              "      fill: #1967D2;\n",
              "      height: 32px;\n",
              "      padding: 0 0 0 0;\n",
              "      width: 32px;\n",
              "    }\n",
              "\n",
              "    .colab-df-convert:hover {\n",
              "      background-color: #E2EBFA;\n",
              "      box-shadow: 0px 1px 2px rgba(60, 64, 67, 0.3), 0px 1px 3px 1px rgba(60, 64, 67, 0.15);\n",
              "      fill: #174EA6;\n",
              "    }\n",
              "\n",
              "    [theme=dark] .colab-df-convert {\n",
              "      background-color: #3B4455;\n",
              "      fill: #D2E3FC;\n",
              "    }\n",
              "\n",
              "    [theme=dark] .colab-df-convert:hover {\n",
              "      background-color: #434B5C;\n",
              "      box-shadow: 0px 1px 3px 1px rgba(0, 0, 0, 0.15);\n",
              "      filter: drop-shadow(0px 1px 2px rgba(0, 0, 0, 0.3));\n",
              "      fill: #FFFFFF;\n",
              "    }\n",
              "  </style>\n",
              "\n",
              "      <script>\n",
              "        const buttonEl =\n",
              "          document.querySelector('#df-606857c0-a056-42a6-a41e-1f31808c76bf button.colab-df-convert');\n",
              "        buttonEl.style.display =\n",
              "          google.colab.kernel.accessAllowed ? 'block' : 'none';\n",
              "\n",
              "        async function convertToInteractive(key) {\n",
              "          const element = document.querySelector('#df-606857c0-a056-42a6-a41e-1f31808c76bf');\n",
              "          const dataTable =\n",
              "            await google.colab.kernel.invokeFunction('convertToInteractive',\n",
              "                                                     [key], {});\n",
              "          if (!dataTable) return;\n",
              "\n",
              "          const docLinkHtml = 'Like what you see? Visit the ' +\n",
              "            '<a target=\"_blank\" href=https://colab.research.google.com/notebooks/data_table.ipynb>data table notebook</a>'\n",
              "            + ' to learn more about interactive tables.';\n",
              "          element.innerHTML = '';\n",
              "          dataTable['output_type'] = 'display_data';\n",
              "          await google.colab.output.renderOutput(dataTable, element);\n",
              "          const docLink = document.createElement('div');\n",
              "          docLink.innerHTML = docLinkHtml;\n",
              "          element.appendChild(docLink);\n",
              "        }\n",
              "      </script>\n",
              "    </div>\n",
              "  </div>\n",
              "  "
            ]
          },
          "metadata": {},
          "execution_count": 15
        }
      ]
    },
    {
      "cell_type": "code",
      "source": [
        "test = submission_csv[0 : 40669]\n",
        "files = submission_csv[40669 : ]"
      ],
      "metadata": {
        "id": "uzbgBh29bVSR"
      },
      "execution_count": 16,
      "outputs": []
    },
    {
      "cell_type": "code",
      "source": [
        "gc.collect()"
      ],
      "metadata": {
        "colab": {
          "base_uri": "https://localhost:8080/"
        },
        "id": "A5lRuHwdhaGO",
        "outputId": "5ef2e09c-34ee-4465-9ace-830090e4fe6b"
      },
      "execution_count": 17,
      "outputs": [
        {
          "output_type": "execute_result",
          "data": {
            "text/plain": [
              "3015"
            ]
          },
          "metadata": {},
          "execution_count": 17
        }
      ]
    },
    {
      "cell_type": "code",
      "source": [
        "test_img = []\n",
        "\n",
        "for image_name, tags in tqdm(test.values, miniters=1000):\n",
        "  try:\n",
        "    arr = cv2.imread('/content/{}.jpg'.format(image_name))\n",
        "    test_img.append(cv2.resize(arr, (64, 64)))\n",
        "  except:\n",
        "    pass\n",
        "\n",
        "\n",
        "for image_name, tags in tqdm(files.values, miniters=1000):\n",
        "  try:\n",
        "    arr = cv2.imread('/content/{}.jpg'.format(image_name))\n",
        "    test_img.append(cv2.resize(arr, (64, 64)))\n",
        "  except:\n",
        "    pass\n",
        "  \n",
        "\n",
        "test_img = np.array(test_img, np.float16)/255.0\n",
        "\n",
        "\n"
      ],
      "metadata": {
        "colab": {
          "base_uri": "https://localhost:8080/"
        },
        "id": "0LhE7US0iBLm",
        "outputId": "9e5f554d-138b-4ff1-9de8-2a7cff103966"
      },
      "execution_count": 19,
      "outputs": [
        {
          "output_type": "stream",
          "name": "stderr",
          "text": [
            "100%|██████████| 40669/40669 [00:06<00:00, 5894.61it/s]\n",
            "100%|██████████| 20522/20522 [00:02<00:00, 9135.27it/s]\n"
          ]
        }
      ]
    },
    {
      "cell_type": "code",
      "source": [
        "yres = []\n",
        "predictions = model.predict(test_img, batch_size = 64, verbose = 2)\n",
        "yres.append(predictions)"
      ],
      "metadata": {
        "colab": {
          "base_uri": "https://localhost:8080/"
        },
        "id": "ItWO51yni5Xv",
        "outputId": "c5528143-c17e-4dc8-ce75-68854ec5350b"
      },
      "execution_count": 20,
      "outputs": [
        {
          "output_type": "stream",
          "name": "stdout",
          "text": [
            "1/1 - 0s - 17ms/epoch - 17ms/step\n"
          ]
        }
      ]
    },
    {
      "cell_type": "code",
      "source": [
        "sub = np.array(yres[0])\n",
        "for i in range (1, len(yres)):\n",
        "    sub += np.array(yres[i])\n",
        "sub = pd.DataFrame(sub, columns = label_map)\n"
      ],
      "metadata": {
        "id": "1Br0pfNi09_P"
      },
      "execution_count": 21,
      "outputs": []
    },
    {
      "cell_type": "code",
      "source": [
        "#saving my final result into a csv file\n",
        "preds = []\n",
        "for i in tqdm(range(sub.shape[0]), miniters=1000):\n",
        "    a = sub.loc[[i]]\n",
        "    a = a.apply(lambda x: x > 0.2, axis=1)\n",
        "    a = a.transpose()\n",
        "    a= a.loc[a[i] == True]\n",
        "    ' '.join(list(a.index))\n",
        "    preds.append(' '.join(list(a.index)))\n",
        "  \n",
        "#len(preds)\n",
        "\n",
        "new_submission = submission_csv\n",
        "#new_submission['tags'] = preds\n",
        "new_submission.to_csv('submission.csv', index=False)"
      ],
      "metadata": {
        "colab": {
          "base_uri": "https://localhost:8080/"
        },
        "id": "6EOX8tbNQR2n",
        "outputId": "b774c376-6824-4e3e-a8b2-a994ca41748c"
      },
      "execution_count": 24,
      "outputs": [
        {
          "output_type": "stream",
          "name": "stderr",
          "text": [
            "100%|██████████| 2/2 [00:00<00:00, 201.22it/s]\n"
          ]
        }
      ]
    },
    {
      "cell_type": "code",
      "source": [
        "p = pd.read_csv('/content/submission.csv')\n",
        "p"
      ],
      "metadata": {
        "colab": {
          "base_uri": "https://localhost:8080/",
          "height": 423
        },
        "id": "k35Yfsi_WtpU",
        "outputId": "0a1b095f-211e-4a51-dd7e-7df2d83bf6cf"
      },
      "execution_count": 25,
      "outputs": [
        {
          "output_type": "execute_result",
          "data": {
            "text/plain": [
              "      image_name                                  tags\n",
              "0         test_0  primary clear agriculture road water\n",
              "1         test_1  primary clear agriculture road water\n",
              "2         test_2  primary clear agriculture road water\n",
              "3         test_3  primary clear agriculture road water\n",
              "4         test_4  primary clear agriculture road water\n",
              "...          ...                                   ...\n",
              "61186  file_9995  primary clear agriculture road water\n",
              "61187  file_9996  primary clear agriculture road water\n",
              "61188  file_9997  primary clear agriculture road water\n",
              "61189  file_9998  primary clear agriculture road water\n",
              "61190  file_9999  primary clear agriculture road water\n",
              "\n",
              "[61191 rows x 2 columns]"
            ],
            "text/html": [
              "\n",
              "  <div id=\"df-54e77280-f774-4108-a6d2-25801d634249\">\n",
              "    <div class=\"colab-df-container\">\n",
              "      <div>\n",
              "<style scoped>\n",
              "    .dataframe tbody tr th:only-of-type {\n",
              "        vertical-align: middle;\n",
              "    }\n",
              "\n",
              "    .dataframe tbody tr th {\n",
              "        vertical-align: top;\n",
              "    }\n",
              "\n",
              "    .dataframe thead th {\n",
              "        text-align: right;\n",
              "    }\n",
              "</style>\n",
              "<table border=\"1\" class=\"dataframe\">\n",
              "  <thead>\n",
              "    <tr style=\"text-align: right;\">\n",
              "      <th></th>\n",
              "      <th>image_name</th>\n",
              "      <th>tags</th>\n",
              "    </tr>\n",
              "  </thead>\n",
              "  <tbody>\n",
              "    <tr>\n",
              "      <th>0</th>\n",
              "      <td>test_0</td>\n",
              "      <td>primary clear agriculture road water</td>\n",
              "    </tr>\n",
              "    <tr>\n",
              "      <th>1</th>\n",
              "      <td>test_1</td>\n",
              "      <td>primary clear agriculture road water</td>\n",
              "    </tr>\n",
              "    <tr>\n",
              "      <th>2</th>\n",
              "      <td>test_2</td>\n",
              "      <td>primary clear agriculture road water</td>\n",
              "    </tr>\n",
              "    <tr>\n",
              "      <th>3</th>\n",
              "      <td>test_3</td>\n",
              "      <td>primary clear agriculture road water</td>\n",
              "    </tr>\n",
              "    <tr>\n",
              "      <th>4</th>\n",
              "      <td>test_4</td>\n",
              "      <td>primary clear agriculture road water</td>\n",
              "    </tr>\n",
              "    <tr>\n",
              "      <th>...</th>\n",
              "      <td>...</td>\n",
              "      <td>...</td>\n",
              "    </tr>\n",
              "    <tr>\n",
              "      <th>61186</th>\n",
              "      <td>file_9995</td>\n",
              "      <td>primary clear agriculture road water</td>\n",
              "    </tr>\n",
              "    <tr>\n",
              "      <th>61187</th>\n",
              "      <td>file_9996</td>\n",
              "      <td>primary clear agriculture road water</td>\n",
              "    </tr>\n",
              "    <tr>\n",
              "      <th>61188</th>\n",
              "      <td>file_9997</td>\n",
              "      <td>primary clear agriculture road water</td>\n",
              "    </tr>\n",
              "    <tr>\n",
              "      <th>61189</th>\n",
              "      <td>file_9998</td>\n",
              "      <td>primary clear agriculture road water</td>\n",
              "    </tr>\n",
              "    <tr>\n",
              "      <th>61190</th>\n",
              "      <td>file_9999</td>\n",
              "      <td>primary clear agriculture road water</td>\n",
              "    </tr>\n",
              "  </tbody>\n",
              "</table>\n",
              "<p>61191 rows × 2 columns</p>\n",
              "</div>\n",
              "      <button class=\"colab-df-convert\" onclick=\"convertToInteractive('df-54e77280-f774-4108-a6d2-25801d634249')\"\n",
              "              title=\"Convert this dataframe to an interactive table.\"\n",
              "              style=\"display:none;\">\n",
              "        \n",
              "  <svg xmlns=\"http://www.w3.org/2000/svg\" height=\"24px\"viewBox=\"0 0 24 24\"\n",
              "       width=\"24px\">\n",
              "    <path d=\"M0 0h24v24H0V0z\" fill=\"none\"/>\n",
              "    <path d=\"M18.56 5.44l.94 2.06.94-2.06 2.06-.94-2.06-.94-.94-2.06-.94 2.06-2.06.94zm-11 1L8.5 8.5l.94-2.06 2.06-.94-2.06-.94L8.5 2.5l-.94 2.06-2.06.94zm10 10l.94 2.06.94-2.06 2.06-.94-2.06-.94-.94-2.06-.94 2.06-2.06.94z\"/><path d=\"M17.41 7.96l-1.37-1.37c-.4-.4-.92-.59-1.43-.59-.52 0-1.04.2-1.43.59L10.3 9.45l-7.72 7.72c-.78.78-.78 2.05 0 2.83L4 21.41c.39.39.9.59 1.41.59.51 0 1.02-.2 1.41-.59l7.78-7.78 2.81-2.81c.8-.78.8-2.07 0-2.86zM5.41 20L4 18.59l7.72-7.72 1.47 1.35L5.41 20z\"/>\n",
              "  </svg>\n",
              "      </button>\n",
              "      \n",
              "  <style>\n",
              "    .colab-df-container {\n",
              "      display:flex;\n",
              "      flex-wrap:wrap;\n",
              "      gap: 12px;\n",
              "    }\n",
              "\n",
              "    .colab-df-convert {\n",
              "      background-color: #E8F0FE;\n",
              "      border: none;\n",
              "      border-radius: 50%;\n",
              "      cursor: pointer;\n",
              "      display: none;\n",
              "      fill: #1967D2;\n",
              "      height: 32px;\n",
              "      padding: 0 0 0 0;\n",
              "      width: 32px;\n",
              "    }\n",
              "\n",
              "    .colab-df-convert:hover {\n",
              "      background-color: #E2EBFA;\n",
              "      box-shadow: 0px 1px 2px rgba(60, 64, 67, 0.3), 0px 1px 3px 1px rgba(60, 64, 67, 0.15);\n",
              "      fill: #174EA6;\n",
              "    }\n",
              "\n",
              "    [theme=dark] .colab-df-convert {\n",
              "      background-color: #3B4455;\n",
              "      fill: #D2E3FC;\n",
              "    }\n",
              "\n",
              "    [theme=dark] .colab-df-convert:hover {\n",
              "      background-color: #434B5C;\n",
              "      box-shadow: 0px 1px 3px 1px rgba(0, 0, 0, 0.15);\n",
              "      filter: drop-shadow(0px 1px 2px rgba(0, 0, 0, 0.3));\n",
              "      fill: #FFFFFF;\n",
              "    }\n",
              "  </style>\n",
              "\n",
              "      <script>\n",
              "        const buttonEl =\n",
              "          document.querySelector('#df-54e77280-f774-4108-a6d2-25801d634249 button.colab-df-convert');\n",
              "        buttonEl.style.display =\n",
              "          google.colab.kernel.accessAllowed ? 'block' : 'none';\n",
              "\n",
              "        async function convertToInteractive(key) {\n",
              "          const element = document.querySelector('#df-54e77280-f774-4108-a6d2-25801d634249');\n",
              "          const dataTable =\n",
              "            await google.colab.kernel.invokeFunction('convertToInteractive',\n",
              "                                                     [key], {});\n",
              "          if (!dataTable) return;\n",
              "\n",
              "          const docLinkHtml = 'Like what you see? Visit the ' +\n",
              "            '<a target=\"_blank\" href=https://colab.research.google.com/notebooks/data_table.ipynb>data table notebook</a>'\n",
              "            + ' to learn more about interactive tables.';\n",
              "          element.innerHTML = '';\n",
              "          dataTable['output_type'] = 'display_data';\n",
              "          await google.colab.output.renderOutput(dataTable, element);\n",
              "          const docLink = document.createElement('div');\n",
              "          docLink.innerHTML = docLinkHtml;\n",
              "          element.appendChild(docLink);\n",
              "        }\n",
              "      </script>\n",
              "    </div>\n",
              "  </div>\n",
              "  "
            ]
          },
          "metadata": {},
          "execution_count": 25
        }
      ]
    },
    {
      "cell_type": "code",
      "source": [
        ""
      ],
      "metadata": {
        "id": "alT_M_6DZbFF"
      },
      "execution_count": 23,
      "outputs": []
    }
  ]
}