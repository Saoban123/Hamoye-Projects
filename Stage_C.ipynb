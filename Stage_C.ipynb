{
 "cells": [
  {
   "cell_type": "code",
   "execution_count": 1,
   "id": "c1762315",
   "metadata": {},
   "outputs": [
    {
     "name": "stdout",
     "output_type": "stream",
     "text": [
      "Requirement already satisfied: imbalanced-learn==0.6.0 in c:\\users\\saoban\\documents\\saoban_anaconda\\lib\\site-packages (0.6.0)\n",
      "Requirement already satisfied: scipy>=0.17 in c:\\users\\saoban\\documents\\saoban_anaconda\\lib\\site-packages (from imbalanced-learn==0.6.0) (1.6.2)\n",
      "Requirement already satisfied: joblib>=0.11 in c:\\users\\saoban\\documents\\saoban_anaconda\\lib\\site-packages (from imbalanced-learn==0.6.0) (1.0.1)\n",
      "Requirement already satisfied: numpy>=1.11 in c:\\users\\saoban\\documents\\saoban_anaconda\\lib\\site-packages (from imbalanced-learn==0.6.0) (1.20.1)\n",
      "Requirement already satisfied: scikit-learn>=0.22 in c:\\users\\saoban\\documents\\saoban_anaconda\\lib\\site-packages (from imbalanced-learn==0.6.0) (0.24.1)\n",
      "Requirement already satisfied: threadpoolctl>=2.0.0 in c:\\users\\saoban\\documents\\saoban_anaconda\\lib\\site-packages (from scikit-learn>=0.22->imbalanced-learn==0.6.0) (2.1.0)\n"
     ]
    }
   ],
   "source": [
    "!pip install imbalanced-learn==0.6.0"
   ]
  },
  {
   "cell_type": "code",
   "execution_count": null,
   "id": "4c9daa1c",
   "metadata": {},
   "outputs": [],
   "source": [
    "import pandas as pd\n",
    "import numpy as np\n",
    "import matplotlib.pyplot as plt\n",
    "%matplotlib inline\n",
    "import seaborn as sns\n",
    "import warnings\n",
    "warnings.filterwarnings('ignore')\n"
   ]
  },
  {
   "cell_type": "code",
   "execution_count": null,
   "id": "3539f28f",
   "metadata": {},
   "outputs": [],
   "source": [
    "df = pd.read_csv('Data_for_UCI_named.csv')\n",
    "df"
   ]
  },
  {
   "cell_type": "code",
   "execution_count": null,
   "id": "26eefc8d",
   "metadata": {},
   "outputs": [],
   "source": [
    "df.shape"
   ]
  },
  {
   "cell_type": "code",
   "execution_count": null,
   "id": "178cae77",
   "metadata": {},
   "outputs": [],
   "source": [
    "df.info()"
   ]
  },
  {
   "cell_type": "code",
   "execution_count": null,
   "id": "c1edbc63",
   "metadata": {},
   "outputs": [],
   "source": [
    "df[ 'stabf' ].value_counts()"
   ]
  },
  {
   "cell_type": "code",
   "execution_count": null,
   "id": "30fd4b14",
   "metadata": {},
   "outputs": [],
   "source": [
    "df = df.drop(columns='stab')\n",
    "df.head()"
   ]
  },
  {
   "cell_type": "code",
   "execution_count": null,
   "id": "cc204f29",
   "metadata": {},
   "outputs": [],
   "source": [
    "X = df.drop(columns = ['stabf'])\n",
    "y = df['stabf']"
   ]
  },
  {
   "cell_type": "code",
   "execution_count": null,
   "id": "e359d8b9",
   "metadata": {},
   "outputs": [],
   "source": [
    "from sklearn.model_selection import train_test_split\n",
    "X_train, X_test, y_train, y_test = train_test_split(X, y, test_size= 0.3 , random_state= 0 )\n",
    "y_train.value_counts()"
   ]
  },
  {
   "cell_type": "code",
   "execution_count": null,
   "id": "e081ec84",
   "metadata": {},
   "outputs": [],
   "source": []
  },
  {
   "cell_type": "markdown",
   "id": "872a746b",
   "metadata": {},
   "source": [
    "## Question 4"
   ]
  },
  {
   "cell_type": "code",
   "execution_count": null,
   "id": "15aafdda",
   "metadata": {},
   "outputs": [],
   "source": [
    "import xgboost as xg"
   ]
  },
  {
   "cell_type": "code",
   "execution_count": null,
   "id": "b5170f48",
   "metadata": {},
   "outputs": [],
   "source": [
    "xgb_r = xg.XGBClassifier()\n",
    "xgb_r.fit(X_train, y_train)\n",
    "xgb_r.score(X_test, y_test)"
   ]
  },
  {
   "cell_type": "markdown",
   "id": "0d169b0c",
   "metadata": {},
   "source": [
    "## Answer = 0.9373"
   ]
  },
  {
   "cell_type": "code",
   "execution_count": null,
   "id": "fddbf616",
   "metadata": {},
   "outputs": [],
   "source": []
  },
  {
   "cell_type": "code",
   "execution_count": null,
   "id": "74eebbcb",
   "metadata": {},
   "outputs": [],
   "source": []
  },
  {
   "cell_type": "markdown",
   "id": "24c00f30",
   "metadata": {},
   "source": [
    "## Question 12"
   ]
  },
  {
   "cell_type": "code",
   "execution_count": null,
   "id": "a41f6579",
   "metadata": {},
   "outputs": [],
   "source": [
    "from sklearn.ensemble import RandomForestClassifier\n",
    "model = RandomForestClassifier()\n",
    "model.fit(X_train, y_train)"
   ]
  },
  {
   "cell_type": "code",
   "execution_count": null,
   "id": "56fb7fb3",
   "metadata": {},
   "outputs": [],
   "source": [
    "model.score(X_test, y_test)"
   ]
  },
  {
   "cell_type": "markdown",
   "id": "3d857cb4",
   "metadata": {},
   "source": [
    "Answer = 0.9123"
   ]
  },
  {
   "cell_type": "code",
   "execution_count": null,
   "id": "64717a32",
   "metadata": {},
   "outputs": [],
   "source": []
  },
  {
   "cell_type": "code",
   "execution_count": null,
   "id": "d53f447b",
   "metadata": {},
   "outputs": [],
   "source": []
  },
  {
   "cell_type": "code",
   "execution_count": null,
   "id": "913c2253",
   "metadata": {},
   "outputs": [],
   "source": []
  },
  {
   "cell_type": "code",
   "execution_count": null,
   "id": "f125d2e7",
   "metadata": {},
   "outputs": [],
   "source": [
    "from sklearn.ensemble import ExtraTreesClassifier\n",
    "model = ExtraTreesClassifier()\n",
    "model.fit(X, y)\n",
    "print(model.feature_importances_)"
   ]
  },
  {
   "cell_type": "code",
   "execution_count": null,
   "id": "c855e53f",
   "metadata": {},
   "outputs": [],
   "source": [
    "ext=pd.DataFrame(model.feature_importances_,columns=[\"extratrees\"])\n",
    "ext\n",
    "ext.sort_values(['extratrees'], ascending=False)"
   ]
  },
  {
   "cell_type": "code",
   "execution_count": null,
   "id": "fd36eb79",
   "metadata": {},
   "outputs": [],
   "source": []
  }
 ],
 "metadata": {
  "kernelspec": {
   "display_name": "Python 3",
   "language": "python",
   "name": "python3"
  },
  "language_info": {
   "codemirror_mode": {
    "name": "ipython",
    "version": 3
   },
   "file_extension": ".py",
   "mimetype": "text/x-python",
   "name": "python",
   "nbconvert_exporter": "python",
   "pygments_lexer": "ipython3",
   "version": "3.8.8"
  }
 },
 "nbformat": 4,
 "nbformat_minor": 5
}
